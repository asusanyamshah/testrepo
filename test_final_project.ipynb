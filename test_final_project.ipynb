{
 "cells": [
  {
   "cell_type": "code",
   "execution_count": null,
   "metadata": {},
   "outputs": [],
   "source": [
    "# A sample file to upload to github. \n",
    "\n",
    "print(\"Hello World\")\n",
    "\n",
    "class Patient:\n",
    "    ...\n",
    "\n",
    "class Doctor:\n",
    "    ...\n",
    "\n",
    "class Nurse:\n",
    "    ..."
   ]
  }
 ],
 "metadata": {
  "language_info": {
   "name": "python"
  }
 },
 "nbformat": 4,
 "nbformat_minor": 2
}
